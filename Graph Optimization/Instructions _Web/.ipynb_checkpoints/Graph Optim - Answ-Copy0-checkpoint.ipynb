{
 "metadata": {
  "name": "",
  "signature": "sha256:bdff1b8281ee89556f76de1f6cf965d8c334d16f064560e9b42a8ee73cccb39a"
 },
 "nbformat": 3,
 "nbformat_minor": 0,
 "worksheets": [
  {
   "cells": [
    {
     "cell_type": "heading",
     "level": 3,
     "metadata": {},
     "source": [
      "Provided Code - Classes for Graph"
     ]
    },
    {
     "cell_type": "code",
     "collapsed": false,
     "input": [
      "#Provided Code \n",
      "\n",
      "class Node(object):\n",
      "    '''Node'''\n",
      "    def __init__(self, name):\n",
      "        self.name = str(name)\n",
      "    def getName(self):\n",
      "        return self.name\n",
      "    def __str__(self):\n",
      "        return self.name\n",
      "    def __repr__(self):\n",
      "        return self.name\n",
      "    def __eq__(self, other):\n",
      "        return self.name == other.name\n",
      "    def __ne__(self, other):\n",
      "        return not self.__eq__(other)\n",
      "    def __hash__(self): \n",
      "        return self.name.__hash__()\n",
      "\n",
      "class Edge(object):\n",
      "    '''Edge'''\n",
      "    def __init__(self, src, dest):\n",
      "        self.src = src\n",
      "        self.dest = dest\n",
      "    def getSource(self):\n",
      "        return self.src\n",
      "    def getDestination(self):\n",
      "        return self.dest\n",
      "    def __str__(self):\n",
      "        return '{0}->{1}'.format(self.src, self.dest)\n",
      "\n",
      "class Digraph(object):\n",
      "    \"\"\"A directed graph\"\"\"    \n",
      "    def __init__(self):\n",
      "        self.nodes = set([])\n",
      "        self.edges = {}\n",
      "    def addNode(self, node):\n",
      "        if node in self.nodes:\n",
      "            # Even though self.nodes is a Set, we want to do this to make sure we\n",
      "            # don't add a duplicate entry for the same node in the self.edges list.\n",
      "            raise ValueError('Duplicate node')\n",
      "        else:\n",
      "            self.nodes.add(node)\n",
      "            self.edges[node] = []\n",
      "    def addEdge(self, edge):\n",
      "        src = edge.getSource()\n",
      "        dest = edge.getDestination()\n",
      "        if not(src in self.nodes and dest in self.nodes):\n",
      "            raise ValueError('Node not in graph')\n",
      "        self.edges[src].append(dest)\n",
      "    def childrenOf(self, node):\n",
      "        return self.edges[node]\n",
      "    def hasNode(self, node):\n",
      "        return node in self.nodes\n",
      "    def __str__(self):\n",
      "        res = ''\n",
      "        for k in self.edges:\n",
      "            for d in self.edges[str(k)]:\n",
      "                res = '{0}{1}->{2}\\n'.format(res, k, d)\n",
      "        return res[:-1]\n",
      "\n"
     ],
     "language": "python",
     "metadata": {},
     "outputs": [],
     "prompt_number": 116
    },
    {
     "cell_type": "code",
     "collapsed": false,
     "input": [],
     "language": "python",
     "metadata": {},
     "outputs": [],
     "prompt_number": 116
    },
    {
     "cell_type": "heading",
     "level": 3,
     "metadata": {},
     "source": [
      "Problem 1 -WeightedEdge & WeightedDigraph"
     ]
    },
    {
     "cell_type": "code",
     "collapsed": false,
     "input": [
      "class WeightedEdge(Edge):   #  This code has been tested - OK\n",
      "    def __init__(self, src, dest, totDist, outDist):\n",
      "        Edge.__init__(self, src, dest)\n",
      "        self.totDist=totDist\n",
      "        self.outDist=outDist\n",
      "    def getTotalDistance(self):\n",
      "        return self.totDist\n",
      "    def getOutdoorDistance(self):\n",
      "        return self.outDist\n",
      "    def __str__(self): \n",
      "        return Edge.__str__(self) + \" (\"   + str(self.totDist) +  \", \"  +  str(self.outDist)  +  \")\"  \n",
      "\n"
     ],
     "language": "python",
     "metadata": {},
     "outputs": [],
     "prompt_number": 117
    },
    {
     "cell_type": "code",
     "collapsed": false,
     "input": [],
     "language": "python",
     "metadata": {},
     "outputs": [],
     "prompt_number": 117
    },
    {
     "cell_type": "code",
     "collapsed": false,
     "input": [
      "class WeightedDigraph(Digraph):\n",
      "    \n",
      "    def __init__(self):\n",
      "        self.nodes = set([])\n",
      "        self.edges = {}\n",
      "\n",
      "        \n",
      "#     def addEdge(self, edge):\n",
      "#         src = edge.getSource()\n",
      "#         dest = edge.getDestination()\n",
      "#         totDist=float(edge.getTotalDistance())\n",
      "#         outDist=float(edge.getOutdoorDistance()) \n",
      "#         if not self.edges[src]:\n",
      "#             self.edges[src]=[]\n",
      "#         if not(src in self.nodes and dest in self.nodes):\n",
      "#             raise ValueError('Node not in graph')\n",
      "        \n",
      "#         self.edges[src].append([dest,(totDist, outDist)])\n",
      "\n",
      "    def addEdge(self, edge):\n",
      "        src = edge.getSource()\n",
      "        dest = edge.getDestination()\n",
      "        if not(src in self.nodes and dest in self.nodes):\n",
      "            raise ValueError('Node not in graph')\n",
      "        self.edges[src].append(edge)        \n",
      "        \n",
      "    def childrenOf(self,node):\n",
      "        return [child.getDestination() for child in self.edges[node]]\n",
      "    \n",
      "\n",
      "    def __str__(self):\n",
      "        res = '' \n",
      "        for k in self.edges:\n",
      "            for d in self.edges[k]:\n",
      "                res = '{0}{1}->{2} ({3}, {4})\\n'.format(res, k, d[0], float(d[1][0]),float(d[1][1]) ) \n",
      "        return res[:-1]        \n",
      "    \n",
      "        \n",
      "\n"
     ],
     "language": "python",
     "metadata": {},
     "outputs": [],
     "prompt_number": 118
    },
    {
     "cell_type": "code",
     "collapsed": false,
     "input": [
      "# g = WeightedDigraph()\n",
      "# na = Node('a')\n",
      "# nb = Node('b')\n",
      "# nc = Node('c')\n",
      "# g.addNode(na)\n",
      "# g.addNode(nb)\n",
      "# g.addNode(nc)\n",
      "# e1 = WeightedEdge(na, nb, 15, 10)\n",
      "\n",
      "# e2 = WeightedEdge(na, nc, 14, 6)\n",
      "# e3 = WeightedEdge(nb, nc, 3, 1)\n",
      "\n",
      "# g.addEdge(e1)\n",
      "# g.addEdge(e2)\n",
      "# g.addEdge(e3)\n"
     ],
     "language": "python",
     "metadata": {},
     "outputs": [],
     "prompt_number": 119
    },
    {
     "cell_type": "code",
     "collapsed": false,
     "input": [
      "# print e1\n",
      "# print e1.getTotalDistance()\n",
      "# print e1.getOutdoorDistance()\n",
      "# print g"
     ],
     "language": "python",
     "metadata": {},
     "outputs": [],
     "prompt_number": 120
    },
    {
     "cell_type": "code",
     "collapsed": false,
     "input": [
      "# print e1\n",
      "# a->b (15, 10)\n",
      "# print e1.getTotalDistance()\n",
      "# 15\n",
      "# print e1.getOutdoorDistance()\n",
      "# 10\n",
      "# print g\n",
      "# a->b (15.0, 10.0)\n",
      "# a->c (14.0, 6.0)\n",
      "# b->c (3.0, 1.0)\n",
      "# print e2\n",
      "# a->c (14, 6)\n",
      "# print e3\n",
      "# b->c (3, 1)"
     ],
     "language": "python",
     "metadata": {},
     "outputs": [],
     "prompt_number": 121
    },
    {
     "cell_type": "heading",
     "level": 3,
     "metadata": {},
     "source": [
      "Problem 2"
     ]
    },
    {
     "cell_type": "code",
     "collapsed": false,
     "input": [
      "def load_map(mapFilename):\n",
      "    \"\"\" Parses the map file and constructs a directed graph\"\"\"\n",
      "\n",
      "    print \"Loading map from file...\"\n",
      "    \n",
      "    MapMIT=WeightedDigraph()\n",
      "    dataFile=open(mapFilename, \"r\")\n",
      "\n",
      "    for line in dataFile:\n",
      "        s,d,t,o =line.split()\n",
      "        \n",
      "        s=Node(s)\n",
      "        d=Node(d)\n",
      "        sd=WeightedEdge(s,d,t,o)\n",
      "        \n",
      "        try:\n",
      "            MapMIT.addNode(s)\n",
      "        except ValueError:\n",
      "            pass\n",
      "        \n",
      "        try:\n",
      "            MapMIT.addNode(d)\n",
      "        except ValueError:\n",
      "            pass        \n",
      "        \n",
      "        try:\n",
      "            MapMIT.addEdge(sd)\n",
      "        except ValueError:\n",
      "            pass\n",
      "            \n",
      "    \n",
      "    dataFile.close()    \n",
      "    return MapMIT\n"
     ],
     "language": "python",
     "metadata": {},
     "outputs": [],
     "prompt_number": 122
    },
    {
     "cell_type": "code",
     "collapsed": false,
     "input": [
      "mitMap = load_map(\"mit_map.txt\")\n"
     ],
     "language": "python",
     "metadata": {},
     "outputs": [
      {
       "output_type": "stream",
       "stream": "stdout",
       "text": [
        "Loading map from file...\n"
       ]
      }
     ],
     "prompt_number": 123
    },
    {
     "cell_type": "code",
     "collapsed": false,
     "input": [
      "print mitMap"
     ],
     "language": "python",
     "metadata": {},
     "outputs": [
      {
       "ename": "TypeError",
       "evalue": "'WeightedEdge' object does not support indexing",
       "output_type": "pyerr",
       "traceback": [
        "\u001b[1;31m---------------------------------------------------------------------------\u001b[0m\n\u001b[1;31mTypeError\u001b[0m                                 Traceback (most recent call last)",
        "\u001b[1;32m<ipython-input-124-0beed0058d4b>\u001b[0m in \u001b[0;36m<module>\u001b[1;34m()\u001b[0m\n\u001b[1;32m----> 1\u001b[1;33m \u001b[1;32mprint\u001b[0m \u001b[0mmitMap\u001b[0m\u001b[1;33m\u001b[0m\u001b[0m\n\u001b[0m",
        "\u001b[1;32m<ipython-input-118-27a012384db7>\u001b[0m in \u001b[0;36m__str__\u001b[1;34m(self)\u001b[0m\n\u001b[0;32m     33\u001b[0m         \u001b[1;32mfor\u001b[0m \u001b[0mk\u001b[0m \u001b[1;32min\u001b[0m \u001b[0mself\u001b[0m\u001b[1;33m.\u001b[0m\u001b[0medges\u001b[0m\u001b[1;33m:\u001b[0m\u001b[1;33m\u001b[0m\u001b[0m\n\u001b[0;32m     34\u001b[0m             \u001b[1;32mfor\u001b[0m \u001b[0md\u001b[0m \u001b[1;32min\u001b[0m \u001b[0mself\u001b[0m\u001b[1;33m.\u001b[0m\u001b[0medges\u001b[0m\u001b[1;33m[\u001b[0m\u001b[0mk\u001b[0m\u001b[1;33m]\u001b[0m\u001b[1;33m:\u001b[0m\u001b[1;33m\u001b[0m\u001b[0m\n\u001b[1;32m---> 35\u001b[1;33m                 \u001b[0mres\u001b[0m \u001b[1;33m=\u001b[0m \u001b[1;34m'{0}{1}->{2} ({3}, {4})\\n'\u001b[0m\u001b[1;33m.\u001b[0m\u001b[0mformat\u001b[0m\u001b[1;33m(\u001b[0m\u001b[0mres\u001b[0m\u001b[1;33m,\u001b[0m \u001b[0mk\u001b[0m\u001b[1;33m,\u001b[0m \u001b[0md\u001b[0m\u001b[1;33m[\u001b[0m\u001b[1;36m0\u001b[0m\u001b[1;33m]\u001b[0m\u001b[1;33m,\u001b[0m \u001b[0mfloat\u001b[0m\u001b[1;33m(\u001b[0m\u001b[0md\u001b[0m\u001b[1;33m[\u001b[0m\u001b[1;36m1\u001b[0m\u001b[1;33m]\u001b[0m\u001b[1;33m[\u001b[0m\u001b[1;36m0\u001b[0m\u001b[1;33m]\u001b[0m\u001b[1;33m)\u001b[0m\u001b[1;33m,\u001b[0m\u001b[0mfloat\u001b[0m\u001b[1;33m(\u001b[0m\u001b[0md\u001b[0m\u001b[1;33m[\u001b[0m\u001b[1;36m1\u001b[0m\u001b[1;33m]\u001b[0m\u001b[1;33m[\u001b[0m\u001b[1;36m1\u001b[0m\u001b[1;33m]\u001b[0m\u001b[1;33m)\u001b[0m \u001b[1;33m)\u001b[0m\u001b[1;33m\u001b[0m\u001b[0m\n\u001b[0m\u001b[0;32m     36\u001b[0m         \u001b[1;32mreturn\u001b[0m \u001b[0mres\u001b[0m\u001b[1;33m[\u001b[0m\u001b[1;33m:\u001b[0m\u001b[1;33m-\u001b[0m\u001b[1;36m1\u001b[0m\u001b[1;33m]\u001b[0m\u001b[1;33m\u001b[0m\u001b[0m\n\u001b[0;32m     37\u001b[0m \u001b[1;33m\u001b[0m\u001b[0m\n",
        "\u001b[1;31mTypeError\u001b[0m: 'WeightedEdge' object does not support indexing"
       ]
      }
     ],
     "prompt_number": 124
    },
    {
     "cell_type": "code",
     "collapsed": false,
     "input": [
      "mitMap.edges.get(Node(\"16\"), \"v\")"
     ],
     "language": "python",
     "metadata": {},
     "outputs": [
      {
       "metadata": {},
       "output_type": "pyout",
       "prompt_number": 40,
       "text": [
        "[[56, (30.0, 0.0)], [32, (100.0, 50.0)], [26, (45.0, 0.0)], [8, (25.0, 0.0)]]"
       ]
      }
     ],
     "prompt_number": 40
    },
    {
     "cell_type": "code",
     "collapsed": false,
     "input": [
      "mitMap = load_map(\"mit_map.txt\")\n",
      "print isinstance(mitMap, Digraph)\n",
      "\n",
      "print isinstance(mitMap, WeightedDigraph)\n",
      "nodes = mitMap.nodes\n",
      "edges = mitMap.edges"
     ],
     "language": "python",
     "metadata": {},
     "outputs": []
    },
    {
     "cell_type": "heading",
     "level": 3,
     "metadata": {},
     "source": [
      "Problem 3"
     ]
    },
    {
     "cell_type": "code",
     "collapsed": false,
     "input": [],
     "language": "python",
     "metadata": {},
     "outputs": []
    },
    {
     "cell_type": "code",
     "collapsed": false,
     "input": [],
     "language": "python",
     "metadata": {},
     "outputs": []
    },
    {
     "cell_type": "code",
     "collapsed": false,
     "input": [
      "def bruteForceSearch(digraph, start, end, maxTotalDist, maxDistOutdoors):\n",
      "    return DFS1(digraph, start, end, [], maxTotalDist, maxDistOutdoors)\n",
      "    \n",
      "    \n",
      "    "
     ],
     "language": "python",
     "metadata": {},
     "outputs": [],
     "prompt_number": 59
    },
    {
     "cell_type": "code",
     "collapsed": false,
     "input": [
      "def whichShortest(digraph, list_of_paths, maxTotalDistance):\n",
      "    '''Returns the shortest path found under the constraint of maximum total distance'''\n",
      "    pathDistDic={}\n",
      "    for path in list_of_paths:\n",
      "        counter=0\n",
      "        for i in range(len(path)-1):\n",
      "            counter+=findDist(digraph, list_of_paths[path][i], list_of_paths[path][i+1])\n",
      "        pathDistDic[path]=counter\n",
      "    best=min(pathDistDic.values())\n",
      "    if best<maxTotalDistance and best!=None:\n",
      "        return pathDistDic[best]\n",
      "    else: \n",
      "        raise ValueError"
     ],
     "language": "python",
     "metadata": {},
     "outputs": [],
     "prompt_number": 60
    },
    {
     "cell_type": "code",
     "collapsed": false,
     "input": [
      "def outDisAdd(digraph, path):\n",
      "    '''return total outdoor distance of a specific path'''\n",
      "    count=0\n",
      "    for i in range(len(path)-1):\n",
      "        count+=findDist(digraph, path[i], path[i+1])\n",
      "    return count\n",
      "\n",
      "def totDistAdd(digraph, path):\n",
      "    '''return total distance of a specific path'''\n",
      "    count=0\n",
      "    for i in range(len(path)-1):\n",
      "        count+=findDist(digraph, path[i], path[i+1])\n",
      "    return count    \n",
      "    \n",
      "    \n",
      "    "
     ],
     "language": "python",
     "metadata": {},
     "outputs": [],
     "prompt_number": 61
    },
    {
     "cell_type": "code",
     "collapsed": false,
     "input": [
      "def DFS1(digraph, start, end, path, maxTotalDist, maxDistOutdoors):\n",
      "    listP=[]\n",
      "    path = path + [start]\n",
      "    #print 'Current dfs path:', printPath(path)\n",
      "    if start == end:\n",
      "        listP.append(path)\n",
      "    for node in digraph.childrenOf(start):\n",
      "        if node not in path: #avoid cycles\n",
      "            newPath = DFS1(digraph,node,end,path, maxTotalDist, maxDistOutdoors)\n",
      "            if newPath != None:\n",
      "                if outDisAdd(digraph, newPath) <maxDistOutdoors:\n",
      "                    listP.append(newPath)\n",
      "    if listP==[]:\n",
      "        raise ValueError\n",
      "    else:\n",
      "        return whichShortest(digraph, listP, maxTotalDist )        \n",
      "    "
     ],
     "language": "python",
     "metadata": {},
     "outputs": [],
     "prompt_number": 113
    },
    {
     "cell_type": "code",
     "collapsed": false,
     "input": [
      "def findDist(digraph, src, dest):\n",
      "    for i in digraph.edges[Node(src)]:\n",
      "        if i[0].getName()==str(dest):\n",
      "            result=i[1][0]\n",
      "            return  result\n",
      "    "
     ],
     "language": "python",
     "metadata": {},
     "outputs": [],
     "prompt_number": 63
    },
    {
     "cell_type": "code",
     "collapsed": false,
     "input": [
      "#findDist(mitMap, 16, 8)"
     ],
     "language": "python",
     "metadata": {},
     "outputs": [
      {
       "metadata": {},
       "output_type": "pyout",
       "prompt_number": 64,
       "text": [
        "25.0"
       ]
      }
     ],
     "prompt_number": 64
    },
    {
     "cell_type": "heading",
     "level": 3,
     "metadata": {},
     "source": [
      "Problem 4"
     ]
    },
    {
     "cell_type": "code",
     "collapsed": false,
     "input": [
      "def directedDFS(digraph, start, end, maxTotalDist, maxDistOutdoors):\n",
      "    return DFShort(digraph, start, end, [], None, maxTotalDist, maxDistOutdoors)\n",
      "    \n"
     ],
     "language": "python",
     "metadata": {},
     "outputs": [],
     "prompt_number": 65
    },
    {
     "cell_type": "code",
     "collapsed": false,
     "input": [
      "def DFShort (digraph, start, end, path, shortest, maxTotalDist, maxDistOutdoors):\n",
      "    path=path + [start]\n",
      "    if start==end:\n",
      "        return path\n",
      "    for node in digraph.childrenOf(Node(start)):\n",
      "        if node not in path: #avoid cycles\n",
      "            if shortest==None or totDistAdd(digraph, path)<shortest:\n",
      "                \n",
      "                newPath = DFShort(digraph,node,end,path, shortest, maxTotalDist, maxDistOutdoors)\n",
      "                if newPath != None: \n",
      "                    if outDistAdd(digraph, path)<maxDistOutdoors:\n",
      "                        if TotDistAdd(digraph, path)<maxTotalDist:\n",
      "                            shortest=totDistAdd(digraph, newPath)\n",
      "                            \n",
      "                            bestPath=newPath\n",
      "    return bestPath\n",
      "    "
     ],
     "language": "python",
     "metadata": {},
     "outputs": [],
     "prompt_number": 71
    },
    {
     "cell_type": "code",
     "collapsed": false,
     "input": [
      "def outDisAdd(digraph, path):\n",
      "    '''return total outdoor distance of a specific path'''\n",
      "    count=0\n",
      "    for i in range(len(path)-1):\n",
      "        count+=findDist(digraph, path[i], path[i+1])\n",
      "    return count\n",
      "\n",
      "def totDistAdd(digraph, path):\n",
      "    '''return total distance of a specific path'''\n",
      "    count=0\n",
      "    for i in range(len(path)-1):\n",
      "        count+=findDist(digraph, path[i], path[i+1])\n",
      "    return count    \n",
      "    \n",
      "    "
     ],
     "language": "python",
     "metadata": {},
     "outputs": [],
     "prompt_number": 68
    },
    {
     "cell_type": "code",
     "collapsed": false,
     "input": [
      "type(mitMap.childrenOf(Node(32))[1])"
     ],
     "language": "python",
     "metadata": {},
     "outputs": [
      {
       "metadata": {},
       "output_type": "pyout",
       "prompt_number": 88,
       "text": [
        "__main__.Node"
       ]
      }
     ],
     "prompt_number": 88
    },
    {
     "cell_type": "code",
     "collapsed": false,
     "input": [
      "mitMap.childrenOf(Node(32))"
     ],
     "language": "python",
     "metadata": {},
     "outputs": [
      {
       "metadata": {},
       "output_type": "pyout",
       "prompt_number": 79,
       "text": [
        "[36, 57, 76, 68, 16, 12, 46, 48, 66, 56]"
       ]
      }
     ],
     "prompt_number": 79
    },
    {
     "cell_type": "code",
     "collapsed": false,
     "input": [
      "bruteForceSearch(mitMap, '32', '56', 1000, 1000)"
     ],
     "language": "python",
     "metadata": {},
     "outputs": [
      {
       "ename": "AttributeError",
       "evalue": "'str' object has no attribute 'name'",
       "output_type": "pyerr",
       "traceback": [
        "\u001b[1;31m---------------------------------------------------------------------------\u001b[0m\n\u001b[1;31mAttributeError\u001b[0m                            Traceback (most recent call last)",
        "\u001b[1;32m<ipython-input-114-13e95b8cece2>\u001b[0m in \u001b[0;36m<module>\u001b[1;34m()\u001b[0m\n\u001b[1;32m----> 1\u001b[1;33m \u001b[0mbruteForceSearch\u001b[0m\u001b[1;33m(\u001b[0m\u001b[0mmitMap\u001b[0m\u001b[1;33m,\u001b[0m \u001b[1;34m'32'\u001b[0m\u001b[1;33m,\u001b[0m \u001b[1;34m'56'\u001b[0m\u001b[1;33m,\u001b[0m \u001b[1;36m1000\u001b[0m\u001b[1;33m,\u001b[0m \u001b[1;36m1000\u001b[0m\u001b[1;33m)\u001b[0m\u001b[1;33m\u001b[0m\u001b[0m\n\u001b[0m",
        "\u001b[1;32m<ipython-input-59-084373199e7b>\u001b[0m in \u001b[0;36mbruteForceSearch\u001b[1;34m(digraph, start, end, maxTotalDist, maxDistOutdoors)\u001b[0m\n\u001b[0;32m      1\u001b[0m \u001b[1;32mdef\u001b[0m \u001b[0mbruteForceSearch\u001b[0m\u001b[1;33m(\u001b[0m\u001b[0mdigraph\u001b[0m\u001b[1;33m,\u001b[0m \u001b[0mstart\u001b[0m\u001b[1;33m,\u001b[0m \u001b[0mend\u001b[0m\u001b[1;33m,\u001b[0m \u001b[0mmaxTotalDist\u001b[0m\u001b[1;33m,\u001b[0m \u001b[0mmaxDistOutdoors\u001b[0m\u001b[1;33m)\u001b[0m\u001b[1;33m:\u001b[0m\u001b[1;33m\u001b[0m\u001b[0m\n\u001b[1;32m----> 2\u001b[1;33m     \u001b[1;32mreturn\u001b[0m \u001b[0mDFS1\u001b[0m\u001b[1;33m(\u001b[0m\u001b[0mdigraph\u001b[0m\u001b[1;33m,\u001b[0m \u001b[0mstart\u001b[0m\u001b[1;33m,\u001b[0m \u001b[0mend\u001b[0m\u001b[1;33m,\u001b[0m \u001b[1;33m[\u001b[0m\u001b[1;33m]\u001b[0m\u001b[1;33m,\u001b[0m \u001b[0mmaxTotalDist\u001b[0m\u001b[1;33m,\u001b[0m \u001b[0mmaxDistOutdoors\u001b[0m\u001b[1;33m)\u001b[0m\u001b[1;33m\u001b[0m\u001b[0m\n\u001b[0m\u001b[0;32m      3\u001b[0m \u001b[1;33m\u001b[0m\u001b[0m\n\u001b[0;32m      4\u001b[0m \u001b[1;33m\u001b[0m\u001b[0m\n\u001b[0;32m      5\u001b[0m \u001b[1;33m\u001b[0m\u001b[0m\n",
        "\u001b[1;32m<ipython-input-113-931ac89619a2>\u001b[0m in \u001b[0;36mDFS1\u001b[1;34m(digraph, start, end, path, maxTotalDist, maxDistOutdoors)\u001b[0m\n\u001b[0;32m      5\u001b[0m     \u001b[1;32mif\u001b[0m \u001b[0mstart\u001b[0m \u001b[1;33m==\u001b[0m \u001b[0mend\u001b[0m\u001b[1;33m:\u001b[0m\u001b[1;33m\u001b[0m\u001b[0m\n\u001b[0;32m      6\u001b[0m         \u001b[0mlistP\u001b[0m\u001b[1;33m.\u001b[0m\u001b[0mappend\u001b[0m\u001b[1;33m(\u001b[0m\u001b[0mpath\u001b[0m\u001b[1;33m)\u001b[0m\u001b[1;33m\u001b[0m\u001b[0m\n\u001b[1;32m----> 7\u001b[1;33m     \u001b[1;32mfor\u001b[0m \u001b[0mnode\u001b[0m \u001b[1;32min\u001b[0m \u001b[0mdigraph\u001b[0m\u001b[1;33m.\u001b[0m\u001b[0mchildrenOf\u001b[0m\u001b[1;33m(\u001b[0m\u001b[0mstart\u001b[0m\u001b[1;33m)\u001b[0m\u001b[1;33m:\u001b[0m\u001b[1;33m\u001b[0m\u001b[0m\n\u001b[0m\u001b[0;32m      8\u001b[0m         \u001b[1;32mif\u001b[0m \u001b[0mnode\u001b[0m \u001b[1;32mnot\u001b[0m \u001b[1;32min\u001b[0m \u001b[0mpath\u001b[0m\u001b[1;33m:\u001b[0m \u001b[1;31m#avoid cycles\u001b[0m\u001b[1;33m\u001b[0m\u001b[0m\n\u001b[0;32m      9\u001b[0m             \u001b[0mnewPath\u001b[0m \u001b[1;33m=\u001b[0m \u001b[0mDFS1\u001b[0m\u001b[1;33m(\u001b[0m\u001b[0mdigraph\u001b[0m\u001b[1;33m,\u001b[0m\u001b[0mnode\u001b[0m\u001b[1;33m,\u001b[0m\u001b[0mend\u001b[0m\u001b[1;33m,\u001b[0m\u001b[0mpath\u001b[0m\u001b[1;33m,\u001b[0m \u001b[0mmaxTotalDist\u001b[0m\u001b[1;33m,\u001b[0m \u001b[0mmaxDistOutdoors\u001b[0m\u001b[1;33m)\u001b[0m\u001b[1;33m\u001b[0m\u001b[0m\n",
        "\u001b[1;32m<ipython-input-101-c03e0b351d7b>\u001b[0m in \u001b[0;36mchildrenOf\u001b[1;34m(self, node)\u001b[0m\n\u001b[0;32m     19\u001b[0m \u001b[1;33m\u001b[0m\u001b[0m\n\u001b[0;32m     20\u001b[0m     \u001b[1;32mdef\u001b[0m \u001b[0mchildrenOf\u001b[0m\u001b[1;33m(\u001b[0m\u001b[0mself\u001b[0m\u001b[1;33m,\u001b[0m\u001b[0mnode\u001b[0m\u001b[1;33m)\u001b[0m\u001b[1;33m:\u001b[0m\u001b[1;33m\u001b[0m\u001b[0m\n\u001b[1;32m---> 21\u001b[1;33m         \u001b[1;32mreturn\u001b[0m \u001b[1;33m[\u001b[0m\u001b[0mchild\u001b[0m\u001b[1;33m.\u001b[0m\u001b[0mgetDestination\u001b[0m\u001b[1;33m(\u001b[0m\u001b[1;33m)\u001b[0m \u001b[1;32mfor\u001b[0m \u001b[0mchild\u001b[0m \u001b[1;32min\u001b[0m \u001b[0mself\u001b[0m\u001b[1;33m.\u001b[0m\u001b[0medges\u001b[0m\u001b[1;33m[\u001b[0m\u001b[0mnode\u001b[0m\u001b[1;33m]\u001b[0m\u001b[1;33m]\u001b[0m\u001b[1;33m\u001b[0m\u001b[0m\n\u001b[0m\u001b[0;32m     22\u001b[0m \u001b[1;33m\u001b[0m\u001b[0m\n\u001b[0;32m     23\u001b[0m \u001b[1;33m\u001b[0m\u001b[0m\n",
        "\u001b[1;32m<ipython-input-99-d18341c098ad>\u001b[0m in \u001b[0;36m__eq__\u001b[1;34m(self, other)\u001b[0m\n\u001b[0;32m     12\u001b[0m         \u001b[1;32mreturn\u001b[0m \u001b[0mself\u001b[0m\u001b[1;33m.\u001b[0m\u001b[0mname\u001b[0m\u001b[1;33m\u001b[0m\u001b[0m\n\u001b[0;32m     13\u001b[0m     \u001b[1;32mdef\u001b[0m \u001b[0m__eq__\u001b[0m\u001b[1;33m(\u001b[0m\u001b[0mself\u001b[0m\u001b[1;33m,\u001b[0m \u001b[0mother\u001b[0m\u001b[1;33m)\u001b[0m\u001b[1;33m:\u001b[0m\u001b[1;33m\u001b[0m\u001b[0m\n\u001b[1;32m---> 14\u001b[1;33m         \u001b[1;32mreturn\u001b[0m \u001b[0mself\u001b[0m\u001b[1;33m.\u001b[0m\u001b[0mname\u001b[0m \u001b[1;33m==\u001b[0m \u001b[0mother\u001b[0m\u001b[1;33m.\u001b[0m\u001b[0mname\u001b[0m\u001b[1;33m\u001b[0m\u001b[0m\n\u001b[0m\u001b[0;32m     15\u001b[0m     \u001b[1;32mdef\u001b[0m \u001b[0m__ne__\u001b[0m\u001b[1;33m(\u001b[0m\u001b[0mself\u001b[0m\u001b[1;33m,\u001b[0m \u001b[0mother\u001b[0m\u001b[1;33m)\u001b[0m\u001b[1;33m:\u001b[0m\u001b[1;33m\u001b[0m\u001b[0m\n\u001b[0;32m     16\u001b[0m         \u001b[1;32mreturn\u001b[0m \u001b[1;32mnot\u001b[0m \u001b[0mself\u001b[0m\u001b[1;33m.\u001b[0m\u001b[0m__eq__\u001b[0m\u001b[1;33m(\u001b[0m\u001b[0mother\u001b[0m\u001b[1;33m)\u001b[0m\u001b[1;33m\u001b[0m\u001b[0m\n",
        "\u001b[1;31mAttributeError\u001b[0m: 'str' object has no attribute 'name'"
       ]
      }
     ],
     "prompt_number": 114
    },
    {
     "cell_type": "code",
     "collapsed": false,
     "input": [
      "directedDFS(mitMap, '2', '9', 1000, 10000)"
     ],
     "language": "python",
     "metadata": {},
     "outputs": [
      {
       "ename": "AttributeError",
       "evalue": "'str' object has no attribute 'name'",
       "output_type": "pyerr",
       "traceback": [
        "\u001b[1;31m---------------------------------------------------------------------------\u001b[0m\n\u001b[1;31mAttributeError\u001b[0m                            Traceback (most recent call last)",
        "\u001b[1;32m<ipython-input-95-1b836b292964>\u001b[0m in \u001b[0;36m<module>\u001b[1;34m()\u001b[0m\n\u001b[1;32m----> 1\u001b[1;33m \u001b[0mdirectedDFS\u001b[0m\u001b[1;33m(\u001b[0m\u001b[0mmitMap\u001b[0m\u001b[1;33m,\u001b[0m \u001b[1;34m'2'\u001b[0m\u001b[1;33m,\u001b[0m \u001b[1;34m'9'\u001b[0m\u001b[1;33m,\u001b[0m \u001b[1;36m1000\u001b[0m\u001b[1;33m,\u001b[0m \u001b[1;36m10000\u001b[0m\u001b[1;33m)\u001b[0m\u001b[1;33m\u001b[0m\u001b[0m\n\u001b[0m",
        "\u001b[1;32m<ipython-input-65-e35d30b3b762>\u001b[0m in \u001b[0;36mdirectedDFS\u001b[1;34m(digraph, start, end, maxTotalDist, maxDistOutdoors)\u001b[0m\n\u001b[0;32m      1\u001b[0m \u001b[1;32mdef\u001b[0m \u001b[0mdirectedDFS\u001b[0m\u001b[1;33m(\u001b[0m\u001b[0mdigraph\u001b[0m\u001b[1;33m,\u001b[0m \u001b[0mstart\u001b[0m\u001b[1;33m,\u001b[0m \u001b[0mend\u001b[0m\u001b[1;33m,\u001b[0m \u001b[0mmaxTotalDist\u001b[0m\u001b[1;33m,\u001b[0m \u001b[0mmaxDistOutdoors\u001b[0m\u001b[1;33m)\u001b[0m\u001b[1;33m:\u001b[0m\u001b[1;33m\u001b[0m\u001b[0m\n\u001b[1;32m----> 2\u001b[1;33m     \u001b[1;32mreturn\u001b[0m \u001b[0mDFShort\u001b[0m\u001b[1;33m(\u001b[0m\u001b[0mdigraph\u001b[0m\u001b[1;33m,\u001b[0m \u001b[0mstart\u001b[0m\u001b[1;33m,\u001b[0m \u001b[0mend\u001b[0m\u001b[1;33m,\u001b[0m \u001b[1;33m[\u001b[0m\u001b[1;33m]\u001b[0m\u001b[1;33m,\u001b[0m \u001b[0mNone\u001b[0m\u001b[1;33m,\u001b[0m \u001b[0mmaxTotalDist\u001b[0m\u001b[1;33m,\u001b[0m \u001b[0mmaxDistOutdoors\u001b[0m\u001b[1;33m)\u001b[0m\u001b[1;33m\u001b[0m\u001b[0m\n\u001b[0m\u001b[0;32m      3\u001b[0m \u001b[1;33m\u001b[0m\u001b[0m\n",
        "\u001b[1;32m<ipython-input-71-8f6cee49822e>\u001b[0m in \u001b[0;36mDFShort\u001b[1;34m(digraph, start, end, path, shortest, maxTotalDist, maxDistOutdoors)\u001b[0m\n\u001b[0;32m      3\u001b[0m     \u001b[1;32mif\u001b[0m \u001b[0mstart\u001b[0m\u001b[1;33m==\u001b[0m\u001b[0mend\u001b[0m\u001b[1;33m:\u001b[0m\u001b[1;33m\u001b[0m\u001b[0m\n\u001b[0;32m      4\u001b[0m         \u001b[1;32mreturn\u001b[0m \u001b[0mpath\u001b[0m\u001b[1;33m\u001b[0m\u001b[0m\n\u001b[1;32m----> 5\u001b[1;33m     \u001b[1;32mfor\u001b[0m \u001b[0mnode\u001b[0m \u001b[1;32min\u001b[0m \u001b[0mdigraph\u001b[0m\u001b[1;33m.\u001b[0m\u001b[0mchildrenOf\u001b[0m\u001b[1;33m(\u001b[0m\u001b[0mstart\u001b[0m\u001b[1;33m)\u001b[0m\u001b[1;33m:\u001b[0m\u001b[1;33m\u001b[0m\u001b[0m\n\u001b[0m\u001b[0;32m      6\u001b[0m         \u001b[1;32mif\u001b[0m \u001b[0mnode\u001b[0m \u001b[1;32mnot\u001b[0m \u001b[1;32min\u001b[0m \u001b[0mpath\u001b[0m\u001b[1;33m:\u001b[0m \u001b[1;31m#avoid cycles\u001b[0m\u001b[1;33m\u001b[0m\u001b[0m\n\u001b[0;32m      7\u001b[0m             \u001b[1;32mif\u001b[0m \u001b[0mshortest\u001b[0m\u001b[1;33m==\u001b[0m\u001b[0mNone\u001b[0m \u001b[1;32mor\u001b[0m \u001b[0mtotDistAdd\u001b[0m\u001b[1;33m(\u001b[0m\u001b[0mdigraph\u001b[0m\u001b[1;33m,\u001b[0m \u001b[0mpath\u001b[0m\u001b[1;33m)\u001b[0m\u001b[1;33m<\u001b[0m\u001b[0mshortest\u001b[0m\u001b[1;33m:\u001b[0m\u001b[1;33m\u001b[0m\u001b[0m\n",
        "\u001b[1;32m<ipython-input-9-d339d98f6ac5>\u001b[0m in \u001b[0;36mchildrenOf\u001b[1;34m(self, node)\u001b[0m\n\u001b[0;32m     19\u001b[0m \u001b[1;33m\u001b[0m\u001b[0m\n\u001b[0;32m     20\u001b[0m     \u001b[1;32mdef\u001b[0m \u001b[0mchildrenOf\u001b[0m\u001b[1;33m(\u001b[0m\u001b[0mself\u001b[0m\u001b[1;33m,\u001b[0m\u001b[0mnode\u001b[0m\u001b[1;33m)\u001b[0m\u001b[1;33m:\u001b[0m\u001b[1;33m\u001b[0m\u001b[0m\n\u001b[1;32m---> 21\u001b[1;33m         \u001b[1;32mreturn\u001b[0m \u001b[1;33m[\u001b[0m\u001b[0mchild\u001b[0m\u001b[1;33m[\u001b[0m\u001b[1;36m0\u001b[0m\u001b[1;33m]\u001b[0m \u001b[1;32mfor\u001b[0m \u001b[0mchild\u001b[0m \u001b[1;32min\u001b[0m \u001b[0mself\u001b[0m\u001b[1;33m.\u001b[0m\u001b[0medges\u001b[0m\u001b[1;33m[\u001b[0m\u001b[0mnode\u001b[0m\u001b[1;33m]\u001b[0m\u001b[1;33m]\u001b[0m\u001b[1;33m\u001b[0m\u001b[0m\n\u001b[0m\u001b[0;32m     22\u001b[0m \u001b[1;33m\u001b[0m\u001b[0m\n\u001b[0;32m     23\u001b[0m     \u001b[1;32mdef\u001b[0m \u001b[0m__str__\u001b[0m\u001b[1;33m(\u001b[0m\u001b[0mself\u001b[0m\u001b[1;33m)\u001b[0m\u001b[1;33m:\u001b[0m\u001b[1;33m\u001b[0m\u001b[0m\n",
        "\u001b[1;32m<ipython-input-7-d18341c098ad>\u001b[0m in \u001b[0;36m__eq__\u001b[1;34m(self, other)\u001b[0m\n\u001b[0;32m     12\u001b[0m         \u001b[1;32mreturn\u001b[0m \u001b[0mself\u001b[0m\u001b[1;33m.\u001b[0m\u001b[0mname\u001b[0m\u001b[1;33m\u001b[0m\u001b[0m\n\u001b[0;32m     13\u001b[0m     \u001b[1;32mdef\u001b[0m \u001b[0m__eq__\u001b[0m\u001b[1;33m(\u001b[0m\u001b[0mself\u001b[0m\u001b[1;33m,\u001b[0m \u001b[0mother\u001b[0m\u001b[1;33m)\u001b[0m\u001b[1;33m:\u001b[0m\u001b[1;33m\u001b[0m\u001b[0m\n\u001b[1;32m---> 14\u001b[1;33m         \u001b[1;32mreturn\u001b[0m \u001b[0mself\u001b[0m\u001b[1;33m.\u001b[0m\u001b[0mname\u001b[0m \u001b[1;33m==\u001b[0m \u001b[0mother\u001b[0m\u001b[1;33m.\u001b[0m\u001b[0mname\u001b[0m\u001b[1;33m\u001b[0m\u001b[0m\n\u001b[0m\u001b[0;32m     15\u001b[0m     \u001b[1;32mdef\u001b[0m \u001b[0m__ne__\u001b[0m\u001b[1;33m(\u001b[0m\u001b[0mself\u001b[0m\u001b[1;33m,\u001b[0m \u001b[0mother\u001b[0m\u001b[1;33m)\u001b[0m\u001b[1;33m:\u001b[0m\u001b[1;33m\u001b[0m\u001b[0m\n\u001b[0;32m     16\u001b[0m         \u001b[1;32mreturn\u001b[0m \u001b[1;32mnot\u001b[0m \u001b[0mself\u001b[0m\u001b[1;33m.\u001b[0m\u001b[0m__eq__\u001b[0m\u001b[1;33m(\u001b[0m\u001b[0mother\u001b[0m\u001b[1;33m)\u001b[0m\u001b[1;33m\u001b[0m\u001b[0m\n",
        "\u001b[1;31mAttributeError\u001b[0m: 'str' object has no attribute 'name'"
       ]
      }
     ],
     "prompt_number": 95
    }
   ],
   "metadata": {}
  }
 ]
}