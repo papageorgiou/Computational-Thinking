{
 "metadata": {
  "name": "",
  "signature": "sha256:bfd22d3e1a53590dc772b9a1e1f76b12a46d4959ab97f697ae3a382d5a978d98"
 },
 "nbformat": 3,
 "nbformat_minor": 0,
 "worksheets": [
  {
   "cells": [
    {
     "cell_type": "heading",
     "level": 1,
     "metadata": {},
     "source": [
      "Provided Code"
     ]
    },
    {
     "cell_type": "heading",
     "level": 4,
     "metadata": {},
     "source": [
      "Node"
     ]
    },
    {
     "cell_type": "code",
     "collapsed": false,
     "input": [
      "#Provided Code \n",
      "\n",
      "class Node(object):\n",
      "    '''Node'''\n",
      "    def __init__(self, name):\n",
      "        self.name = str(name)\n",
      "    def getName(self):\n",
      "        return self.name\n",
      "    def __str__(self):\n",
      "        return self.name\n",
      "    def __repr__(self):\n",
      "        return self.name\n",
      "    def __eq__(self, other):\n",
      "        return self.name == other.name\n",
      "    def __ne__(self, other):\n",
      "        return not self.__eq__(other)\n",
      "    def __hash__(self): \n",
      "        return self.name.__hash__()"
     ],
     "language": "python",
     "metadata": {},
     "outputs": []
    },
    {
     "cell_type": "heading",
     "level": 4,
     "metadata": {},
     "source": [
      "Edge"
     ]
    },
    {
     "cell_type": "code",
     "collapsed": false,
     "input": [
      "class Edge(object):\n",
      "    '''Edge'''\n",
      "    def __init__(self, src, dest):\n",
      "        self.src = src\n",
      "        self.dest = dest\n",
      "    def getSource(self):\n",
      "        return self.src\n",
      "    def getDestination(self):\n",
      "        return self.dest\n",
      "    def __str__(self):\n",
      "        return '{0}->{1}'.format(self.src, self.dest)"
     ],
     "language": "python",
     "metadata": {},
     "outputs": []
    },
    {
     "cell_type": "heading",
     "level": 4,
     "metadata": {},
     "source": [
      "Digraph"
     ]
    },
    {
     "cell_type": "code",
     "collapsed": false,
     "input": [
      "class Digraph(object):\n",
      "    \"\"\"A directed graph\"\"\"    \n",
      "    def __init__(self):\n",
      "        self.nodes = set([])\n",
      "        self.edges = {}\n",
      "    def addNode(self, node):\n",
      "        if node in self.nodes:\n",
      "            # Even though self.nodes is a Set, we want to do this to make sure we\n",
      "            # don't add a duplicate entry for the same node in the self.edges list.\n",
      "            raise ValueError('Duplicate node')\n",
      "        else:\n",
      "            self.nodes.add(node)\n",
      "            self.edges[node] = []\n",
      "    def addEdge(self, edge):\n",
      "        src = edge.getSource()\n",
      "        dest = edge.getDestination()\n",
      "        if not(src in self.nodes and dest in self.nodes):\n",
      "            raise ValueError('Node not in graph')\n",
      "        self.edges[src].append(dest)\n",
      "    def childrenOf(self, node):\n",
      "        return self.edges[node]\n",
      "    def hasNode(self, node):\n",
      "        return node in self.nodes\n",
      "    def __str__(self):\n",
      "        res = ''\n",
      "        for k in self.edges:\n",
      "            for d in self.edges[str(k)]:\n",
      "                res = '{0}{1}->{2}\\n'.format(res, k, d)\n",
      "        return res[:-1]"
     ],
     "language": "python",
     "metadata": {},
     "outputs": [],
     "prompt_number": 125
    },
    {
     "cell_type": "heading",
     "level": 1,
     "metadata": {},
     "source": [
      "Problem 1 "
     ]
    },
    {
     "cell_type": "heading",
     "level": 4,
     "metadata": {},
     "source": [
      "WeightedEdge"
     ]
    },
    {
     "cell_type": "code",
     "collapsed": false,
     "input": [
      "class WeightedEdge(Edge):   #  This code has been tested - OK\n",
      "    def __init__(self, src, dest, totDist, outDist):\n",
      "        Edge.__init__(self, src, dest)\n",
      "        self.totDist=totDist\n",
      "        self.outDist=outDist\n",
      "    def getTotalDistance(self):\n",
      "        return self.totDist\n",
      "    def getOutdoorDistance(self):\n",
      "        return self.outDist\n",
      "    def __str__(self): \n",
      "        return Edge.__str__(self) + \" (\"   + str(self.totDist) +  \", \"  +  str(self.outDist)  +  \")\"  \n",
      "\n"
     ],
     "language": "python",
     "metadata": {},
     "outputs": [],
     "prompt_number": 126
    },
    {
     "cell_type": "heading",
     "level": 4,
     "metadata": {},
     "source": [
      "WeightedDigraph"
     ]
    },
    {
     "cell_type": "code",
     "collapsed": false,
     "input": [
      "class WeightedDigraph(Digraph):\n",
      "    \n",
      "    def __init__(self):\n",
      "        self.nodes = set([])\n",
      "        self.edges = {}\n",
      "\n",
      "        \n",
      "    def addEdge(self, edge):\n",
      "        src = edge.getSource()\n",
      "        dest = edge.getDestination()\n",
      "        totDist=float(edge.getTotalDistance())\n",
      "        outDist=float(edge.getOutdoorDistance()) \n",
      "        if not self.edges[src]:\n",
      "            self.edges[src]=[]\n",
      "        if not(src in self.nodes and dest in self.nodes):\n",
      "            raise ValueError('Node not in graph')\n",
      "        \n",
      "        self.edges[src].append([dest,(totDist, outDist)])\n",
      "\n",
      "#     def addEdge(self, edge):\n",
      "#         src = edge.getSource()\n",
      "#         dest = edge.getDestination()\n",
      "#         if not(src in self.nodes and dest in self.nodes):\n",
      "#             raise ValueError('Node not in graph')\n",
      "#         self.edges[src].append(edge)        \n",
      "        \n",
      "    def childrenOf(self,node):\n",
      "        return [child[0] for child in self.edges[node]]\n",
      "    \n",
      "\n",
      "    def __str__(self):\n",
      "        res = '' \n",
      "        for k in self.edges:\n",
      "            for d in self.edges[k]:\n",
      "                res = '{0}{1}->{2} ({3}, {4})\\n'.format(res, k, d[0], float(d[1][0]),float(d[1][1]) ) \n",
      "        return res[:-1]        \n",
      "    \n",
      "        \n",
      "\n"
     ],
     "language": "python",
     "metadata": {},
     "outputs": [],
     "prompt_number": 158
    },
    {
     "cell_type": "code",
     "collapsed": false,
     "input": [],
     "language": "python",
     "metadata": {},
     "outputs": []
    },
    {
     "cell_type": "code",
     "collapsed": false,
     "input": [],
     "language": "python",
     "metadata": {},
     "outputs": []
    },
    {
     "cell_type": "heading",
     "level": 4,
     "metadata": {},
     "source": [
      "Problem 2"
     ]
    },
    {
     "cell_type": "code",
     "collapsed": false,
     "input": [
      "def load_map(mapFilename):\n",
      "    \"\"\" Parses the map file and constructs a directed graph\"\"\"\n",
      "\n",
      "    print \"Loading map from file...\"\n",
      "    \n",
      "    MapMIT=WeightedDigraph()\n",
      "    dataFile=open(mapFilename, \"r\")\n",
      "\n",
      "    for line in dataFile:\n",
      "        s,d,t,o =line.split()\n",
      "        \n",
      "        s=Node(s)\n",
      "        d=Node(d)\n",
      "        sd=WeightedEdge(s,d,t,o)\n",
      "        \n",
      "        try:\n",
      "            MapMIT.addNode(s)\n",
      "        except ValueError:\n",
      "            pass\n",
      "        \n",
      "        try:\n",
      "            MapMIT.addNode(d)\n",
      "        except ValueError:\n",
      "            pass        \n",
      "        \n",
      "        try:\n",
      "            MapMIT.addEdge(sd)\n",
      "        except ValueError:\n",
      "            pass\n",
      "            \n",
      "    dataFile.close()    \n",
      "    return MapMIT"
     ],
     "language": "python",
     "metadata": {},
     "outputs": [],
     "prompt_number": 131
    },
    {
     "cell_type": "code",
     "collapsed": false,
     "input": [
      "mitMap = load_map(\"mit_map.txt\")\n"
     ],
     "language": "python",
     "metadata": {},
     "outputs": [
      {
       "output_type": "stream",
       "stream": "stdout",
       "text": [
        "Loading map from file...\n"
       ]
      }
     ],
     "prompt_number": 162
    },
    {
     "cell_type": "code",
     "collapsed": false,
     "input": [
      "type(mitMap.childrenOf(Node(16))[1])"
     ],
     "language": "python",
     "metadata": {},
     "outputs": [
      {
       "metadata": {},
       "output_type": "pyout",
       "prompt_number": 157,
       "text": [
        "str"
       ]
      }
     ],
     "prompt_number": 157
    },
    {
     "cell_type": "code",
     "collapsed": false,
     "input": [],
     "language": "python",
     "metadata": {},
     "outputs": []
    },
    {
     "cell_type": "heading",
     "level": 1,
     "metadata": {},
     "source": [
      "Problem 3"
     ]
    },
    {
     "cell_type": "code",
     "collapsed": false,
     "input": [],
     "language": "python",
     "metadata": {},
     "outputs": []
    },
    {
     "cell_type": "heading",
     "level": 4,
     "metadata": {},
     "source": [
      "bruteForceSearch"
     ]
    },
    {
     "cell_type": "code",
     "collapsed": false,
     "input": [
      "def bruteForceSearch(digraph, start, end, maxTotalDist, maxDistOutdoors):\n",
      "    return DFS1(digraph, start, end, [], maxTotalDist, maxDistOutdoors)\n",
      "    \n",
      "    \n",
      "    "
     ],
     "language": "python",
     "metadata": {},
     "outputs": [],
     "prompt_number": 168
    },
    {
     "cell_type": "heading",
     "level": 4,
     "metadata": {},
     "source": [
      "whichShortest"
     ]
    },
    {
     "cell_type": "code",
     "collapsed": false,
     "input": [
      "def whichShortest(digraph, list_of_paths, maxTotalDistance):\n",
      "    '''Returns the shortest path found under the constraint of maximum total distance'''\n",
      "    pathDistDic={}\n",
      "    for path in list_of_paths:\n",
      "        counter=0\n",
      "        for i in range(len(path)-1):\n",
      "            counter+=findDist(digraph, list_of_paths[path][i], list_of_paths[path][i+1])\n",
      "        pathDistDic[path]=counter\n",
      "    best=min(pathDistDic.values())\n",
      "    if best<maxTotalDistance and best!=None:\n",
      "        return pathDistDic[best]\n",
      "    else: \n",
      "        raise ValueError"
     ],
     "language": "python",
     "metadata": {},
     "outputs": [],
     "prompt_number": 60
    },
    {
     "cell_type": "heading",
     "level": 4,
     "metadata": {},
     "source": [
      "outDisAdd"
     ]
    },
    {
     "cell_type": "code",
     "collapsed": false,
     "input": [
      "def outDisAdd(digraph, path):\n",
      "    '''return total outdoor distance of a specific path'''\n",
      "    count=0\n",
      "    for i in range(len(path)-1):\n",
      "        count+=findDist(digraph, path[i], path[i+1])\n",
      "    return count\n",
      "\n",
      "def totDistAdd(digraph, path):\n",
      "    '''return total distance of a specific path'''\n",
      "    count=0\n",
      "    for i in range(len(path)-1):\n",
      "        count+=findDist(digraph, path[i], path[i+1])\n",
      "    return count    \n",
      "    \n",
      "    \n",
      "    "
     ],
     "language": "python",
     "metadata": {},
     "outputs": [],
     "prompt_number": 136
    },
    {
     "cell_type": "heading",
     "level": 4,
     "metadata": {},
     "source": [
      "DFS1"
     ]
    },
    {
     "cell_type": "code",
     "collapsed": false,
     "input": [
      "def DFS1(digraph, start, end, path, maxTotalDist, maxDistOutdoors):\n",
      "    listP=[]\n",
      "    path = path + [start]\n",
      "    #print 'Current dfs path:', printPath(path)\n",
      "    if start == end:\n",
      "        listP.append(path)\n",
      "    for node in digraph.childrenOf(start):\n",
      "        if node not in path: #avoid cycles\n",
      "            newPath = DFS1(digraph,node,end,path, maxTotalDist, maxDistOutdoors)\n",
      "            if newPath != None:\n",
      "                if outDisAdd(digraph, newPath) <maxDistOutdoors:\n",
      "                    listP.append(newPath)\n",
      "    if listP==[]:\n",
      "        raise ValueError\n",
      "    else:\n",
      "        return whichShortest(digraph, listP, maxTotalDist )        \n",
      "    "
     ],
     "language": "python",
     "metadata": {},
     "outputs": [],
     "prompt_number": 137
    },
    {
     "cell_type": "heading",
     "level": 4,
     "metadata": {},
     "source": [
      "findDist"
     ]
    },
    {
     "cell_type": "code",
     "collapsed": false,
     "input": [
      "def findDist(digraph, src, dest):\n",
      "    for i in digraph.edges[Node(src)]:\n",
      "        if i[0].getName()==str(dest):\n",
      "            result=i[1][0]\n",
      "            return  result\n",
      "    "
     ],
     "language": "python",
     "metadata": {},
     "outputs": [],
     "prompt_number": 138
    },
    {
     "cell_type": "code",
     "collapsed": false,
     "input": [
      "#findDist(mitMap, 16, 8)"
     ],
     "language": "python",
     "metadata": {},
     "outputs": [],
     "prompt_number": 139
    },
    {
     "cell_type": "heading",
     "level": 2,
     "metadata": {},
     "source": [
      "Problem 4"
     ]
    },
    {
     "cell_type": "heading",
     "level": 4,
     "metadata": {},
     "source": [
      "directedDFS"
     ]
    },
    {
     "cell_type": "code",
     "collapsed": false,
     "input": [
      "def directedDFS(digraph, start, end, maxTotalDist, maxDistOutdoors):\n",
      "    return DFShort(digraph, start, end, [], None, maxTotalDist, maxDistOutdoors)\n",
      "    \n"
     ],
     "language": "python",
     "metadata": {},
     "outputs": [],
     "prompt_number": 140
    },
    {
     "cell_type": "heading",
     "level": 4,
     "metadata": {},
     "source": [
      "DFShort"
     ]
    },
    {
     "cell_type": "code",
     "collapsed": false,
     "input": [
      "def DFShort (digraph, start, end, path, shortest, maxTotalDist, maxDistOutdoors):\n",
      "    path=path + [start]\n",
      "    if start==end:\n",
      "        return path\n",
      "    for node in digraph.childrenOf(Node(start)):\n",
      "        if node not in path: #avoid cycles\n",
      "            if shortest==None or totDistAdd(digraph, path)<shortest:\n",
      "                \n",
      "                newPath = DFShort(digraph,node,end,path, shortest, maxTotalDist, maxDistOutdoors)\n",
      "                if newPath != None: \n",
      "                    if outDistAdd(digraph, path)<maxDistOutdoors:\n",
      "                        if TotDistAdd(digraph, path)<maxTotalDist:\n",
      "                            shortest=totDistAdd(digraph, newPath)\n",
      "                            \n",
      "                            bestPath=newPath\n",
      "    return bestPath\n",
      "    "
     ],
     "language": "python",
     "metadata": {},
     "outputs": [],
     "prompt_number": 141
    },
    {
     "cell_type": "heading",
     "level": 4,
     "metadata": {},
     "source": [
      "outDisAdd"
     ]
    },
    {
     "cell_type": "code",
     "collapsed": false,
     "input": [
      "def outDisAdd(digraph, path):\n",
      "    '''return total outdoor distance of a specific path'''\n",
      "    count=0\n",
      "    for i in range(len(path)-1):\n",
      "        count+=findDist(digraph, path[i], path[i+1])\n",
      "    return count\n",
      "\n",
      "def totDistAdd(digraph, path):\n",
      "    '''return total distance of a specific path'''\n",
      "    count=0\n",
      "    for i in range(len(path)-1):\n",
      "        count+=findDist(digraph, path[i], path[i+1])\n",
      "    return count    \n",
      "        "
     ],
     "language": "python",
     "metadata": {},
     "outputs": [],
     "prompt_number": 142
    },
    {
     "cell_type": "code",
     "collapsed": false,
     "input": [
      "mitMap.childrenOf(Node(32))"
     ],
     "language": "python",
     "metadata": {},
     "outputs": [
      {
       "metadata": {},
       "output_type": "pyout",
       "prompt_number": 79,
       "text": [
        "[36, 57, 76, 68, 16, 12, 46, 48, 66, 56]"
       ]
      }
     ],
     "prompt_number": 79
    }
   ],
   "metadata": {}
  }
 ]
}